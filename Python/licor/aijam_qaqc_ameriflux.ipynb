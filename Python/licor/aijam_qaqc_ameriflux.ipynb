{
 "cells": [
  {
   "cell_type": "markdown",
   "metadata": {},
   "source": [
    "# AmeriFlux Data QA/QC Analysis Notebook\n",
    "\n",
    "This Jupyter Notebook and following text is created by **OpenAI o1-pro** model during **1000 Scientists AI Jam** at the _Argonne NAtional Laboratory_. I have made several changes but have not tested it thoroughly.\n"
   ]
  },
  {
   "cell_type": "markdown",
   "metadata": {},
   "source": [
    "\n",
    "Demonstrates Quality Assurance/Quality Control (QA/QC) analysis on AmeriFlux eddy-covariance data, focusing on three key modules: Physical Range checks, Multivariate comparisons, and USTAR filtering. We will load AmeriFlux-like CSV data, apply a series of QA/QC tests, visualize the results, and flag suspect data points. Each section includes clear explanations, code implementing the tests (with adjustable thresholds), and example outputs.\n",
    "\n",
    "Note: In practice, replace the simulated sample data used here with your actual AmeriFlux CSV file. All threshold values and variable ranges can be adjusted as needed for different sites or conditions.\n",
    "Introduction\n",
    "\n",
    "AmeriFlux data QA/QC includes checking for timestamp consistency, physical plausibility of measurements, cross-variable coherence, and proper application of data processing protocols​\n",
    "ameriflux.lbl.gov\n",
    ". This notebook implements three QA/QC test modules:\n",
    "\n",
    "1. Physical Range Module: Ensures each variable falls within expected physical bounds (with a ±5% buffer for edge cases) and checks for anomalies in variability (trends, step changes, constant fill values, or resolution changes)​\n",
    "ameriflux.lbl.gov\n",
    ".\n",
    "2. Multivariate Comparison Module: Examines relationships between physically related variables (e.g., incoming shortwave radiation vs. photosynthetic photon flux) using regression analysis​\n",
    "ameriflux.lbl.gov\n",
    ". Outliers from the expected relationships are flagged, and changes in the regression over time can indicate sensor drift or step changes​\n",
    "ameriflux.lbl.gov\n",
    ".\n",
    "3. USTAR Filtering Module: Verifies that CO₂ flux (FC) data have not been improperly filtered by the friction velocity (u*) threshold. AmeriFlux guidelines require that submitted fluxes are not pre-filtered by u*​\n",
    "ameriflux.lbl.gov\n",
    ". We check for evidence of a u* cutoff (i.e., missing flux data below a certain u* value)​\n",
    "ameriflux.lbl.gov\n",
    "    .\n",
    "\n",
    "Throughout the notebook, we will generate helpful visualizations: time series plots (to reveal trends or step changes), histograms (to assess value distributions against physical ranges), and scatter plots (to inspect multivariate correlations). We will also create output flags and save a CSV of the flagged dataset with original values and new QA/QC flag columns.\n",
    "Data Loading and Preparation\n",
    "\n",
    "First, we load the data from a CSV file. The dataset is expected to have a timestamp column and numerous measurement columns (e.g., SW_IN, PPFD_IN, TA, RH, WS, USTAR, FC, etc.). For this demonstration, we will simulate a small dataset with similar columns. In practice, replace this section by reading your AmeriFlux CSV file using pandas.read_csv."
   ]
  },
  {
   "cell_type": "code",
   "execution_count": 13,
   "metadata": {},
   "outputs": [],
   "source": [
    "# Define expected physical ranges for variables: {column: (min_value, max_value)}\n",
    "physical_ranges = {\n",
    "    'SW_IN'   : (0, 1200),    # Incoming shortwave radiation [0, ~1200 W/m^2] \n",
    "    'PPFD_IN' : (0, 2500),    # PPFD [0, ~2500 μmol/m^2/s]\n",
    "    'TA'      : (-50, 60),    # Air temperature [-50, 60 °C]\n",
    "    'RH'      : (0, 100),     # Relative humidity [0, 100%]\n",
    "    'WS'      : (0, 60),      # Wind speed [0, 60 m/s]\n",
    "    'USTAR'   : (0, 2),       # Friction velocity [0, 2 m/s]\n",
    "    'FC'      : (-50, 50)     # CO₂ flux [plausible range, e.g., -50 to 50 μmol/m^2/s]\n",
    "}\n",
    "BUFFER_RATIO = 0.05  # 5% buffer for range limits\n"
   ]
  },
  {
   "cell_type": "code",
   "execution_count": 14,
   "metadata": {},
   "outputs": [
    {
     "data": {
      "text/html": [
       "<div>\n",
       "<style scoped>\n",
       "    .dataframe tbody tr th:only-of-type {\n",
       "        vertical-align: middle;\n",
       "    }\n",
       "\n",
       "    .dataframe tbody tr th {\n",
       "        vertical-align: top;\n",
       "    }\n",
       "\n",
       "    .dataframe thead th {\n",
       "        text-align: right;\n",
       "    }\n",
       "</style>\n",
       "<table border=\"1\" class=\"dataframe\">\n",
       "  <thead>\n",
       "    <tr style=\"text-align: right;\">\n",
       "      <th></th>\n",
       "      <th>TIMESTAMP_START</th>\n",
       "      <th>TIMESTAMP_END</th>\n",
       "      <th>FETCH_70</th>\n",
       "      <th>FETCH_80</th>\n",
       "      <th>FETCH_90</th>\n",
       "      <th>FETCH_MAX</th>\n",
       "      <th>CO2</th>\n",
       "      <th>CO2_MIXING_RATIO</th>\n",
       "      <th>FC</th>\n",
       "      <th>H2O</th>\n",
       "      <th>...</th>\n",
       "      <th>WS_MAX</th>\n",
       "      <th>ZL</th>\n",
       "      <th>FC_SSITC_TEST</th>\n",
       "      <th>H_SSITC_TEST</th>\n",
       "      <th>LE_SSITC_TEST</th>\n",
       "      <th>TAU_SSITC_TEST</th>\n",
       "      <th>PA</th>\n",
       "      <th>TA</th>\n",
       "      <th>RH</th>\n",
       "      <th>VPD</th>\n",
       "    </tr>\n",
       "  </thead>\n",
       "  <tbody>\n",
       "    <tr>\n",
       "      <th>0</th>\n",
       "      <td>202410010000</td>\n",
       "      <td>202410010030</td>\n",
       "      <td>87.000</td>\n",
       "      <td>119.000</td>\n",
       "      <td>193.000</td>\n",
       "      <td>28.69480</td>\n",
       "      <td>439.535</td>\n",
       "      <td>448.937</td>\n",
       "      <td>26.25290</td>\n",
       "      <td>20.9435</td>\n",
       "      <td>...</td>\n",
       "      <td>2.86631</td>\n",
       "      <td>-1.830820</td>\n",
       "      <td>0</td>\n",
       "      <td>0</td>\n",
       "      <td>1</td>\n",
       "      <td>0</td>\n",
       "      <td>99.308</td>\n",
       "      <td>19.931</td>\n",
       "      <td>89.624</td>\n",
       "      <td>2.409</td>\n",
       "    </tr>\n",
       "    <tr>\n",
       "      <th>1</th>\n",
       "      <td>202410010030</td>\n",
       "      <td>202410010100</td>\n",
       "      <td>306.803</td>\n",
       "      <td>367.165</td>\n",
       "      <td>459.648</td>\n",
       "      <td>167.80600</td>\n",
       "      <td>442.900</td>\n",
       "      <td>452.301</td>\n",
       "      <td>37.94310</td>\n",
       "      <td>20.7850</td>\n",
       "      <td>...</td>\n",
       "      <td>3.91746</td>\n",
       "      <td>-0.202704</td>\n",
       "      <td>0</td>\n",
       "      <td>0</td>\n",
       "      <td>0</td>\n",
       "      <td>0</td>\n",
       "      <td>99.306</td>\n",
       "      <td>19.983</td>\n",
       "      <td>88.661</td>\n",
       "      <td>2.641</td>\n",
       "    </tr>\n",
       "    <tr>\n",
       "      <th>2</th>\n",
       "      <td>202410010100</td>\n",
       "      <td>202410010130</td>\n",
       "      <td>345.417</td>\n",
       "      <td>413.377</td>\n",
       "      <td>517.498</td>\n",
       "      <td>188.92600</td>\n",
       "      <td>443.674</td>\n",
       "      <td>453.230</td>\n",
       "      <td>56.54330</td>\n",
       "      <td>21.0838</td>\n",
       "      <td>...</td>\n",
       "      <td>3.86034</td>\n",
       "      <td>-0.142351</td>\n",
       "      <td>0</td>\n",
       "      <td>0</td>\n",
       "      <td>1</td>\n",
       "      <td>1</td>\n",
       "      <td>99.310</td>\n",
       "      <td>19.911</td>\n",
       "      <td>90.337</td>\n",
       "      <td>2.240</td>\n",
       "    </tr>\n",
       "    <tr>\n",
       "      <th>3</th>\n",
       "      <td>202410010130</td>\n",
       "      <td>202410010200</td>\n",
       "      <td>103.000</td>\n",
       "      <td>152.000</td>\n",
       "      <td>281.000</td>\n",
       "      <td>24.66840</td>\n",
       "      <td>436.937</td>\n",
       "      <td>446.312</td>\n",
       "      <td>21.46950</td>\n",
       "      <td>21.0062</td>\n",
       "      <td>...</td>\n",
       "      <td>2.30382</td>\n",
       "      <td>-0.092358</td>\n",
       "      <td>0</td>\n",
       "      <td>0</td>\n",
       "      <td>0</td>\n",
       "      <td>0</td>\n",
       "      <td>99.339</td>\n",
       "      <td>19.692</td>\n",
       "      <td>91.264</td>\n",
       "      <td>1.998</td>\n",
       "    </tr>\n",
       "    <tr>\n",
       "      <th>4</th>\n",
       "      <td>202410010200</td>\n",
       "      <td>202410010230</td>\n",
       "      <td>36.000</td>\n",
       "      <td>61.000</td>\n",
       "      <td>143.000</td>\n",
       "      <td>5.09109</td>\n",
       "      <td>436.951</td>\n",
       "      <td>446.289</td>\n",
       "      <td>8.80037</td>\n",
       "      <td>20.9224</td>\n",
       "      <td>...</td>\n",
       "      <td>1.46457</td>\n",
       "      <td>0.170420</td>\n",
       "      <td>0</td>\n",
       "      <td>1</td>\n",
       "      <td>1</td>\n",
       "      <td>1</td>\n",
       "      <td>99.349</td>\n",
       "      <td>19.497</td>\n",
       "      <td>92.019</td>\n",
       "      <td>1.803</td>\n",
       "    </tr>\n",
       "  </tbody>\n",
       "</table>\n",
       "<p>5 rows × 35 columns</p>\n",
       "</div>"
      ],
      "text/plain": [
       "   TIMESTAMP_START  TIMESTAMP_END  FETCH_70  FETCH_80  FETCH_90  FETCH_MAX  \\\n",
       "0     202410010000   202410010030    87.000   119.000   193.000   28.69480   \n",
       "1     202410010030   202410010100   306.803   367.165   459.648  167.80600   \n",
       "2     202410010100   202410010130   345.417   413.377   517.498  188.92600   \n",
       "3     202410010130   202410010200   103.000   152.000   281.000   24.66840   \n",
       "4     202410010200   202410010230    36.000    61.000   143.000    5.09109   \n",
       "\n",
       "       CO2  CO2_MIXING_RATIO        FC      H2O  ...   WS_MAX        ZL  \\\n",
       "0  439.535           448.937  26.25290  20.9435  ...  2.86631 -1.830820   \n",
       "1  442.900           452.301  37.94310  20.7850  ...  3.91746 -0.202704   \n",
       "2  443.674           453.230  56.54330  21.0838  ...  3.86034 -0.142351   \n",
       "3  436.937           446.312  21.46950  21.0062  ...  2.30382 -0.092358   \n",
       "4  436.951           446.289   8.80037  20.9224  ...  1.46457  0.170420   \n",
       "\n",
       "   FC_SSITC_TEST  H_SSITC_TEST  LE_SSITC_TEST  TAU_SSITC_TEST      PA      TA  \\\n",
       "0              0             0              1               0  99.308  19.931   \n",
       "1              0             0              0               0  99.306  19.983   \n",
       "2              0             0              1               1  99.310  19.911   \n",
       "3              0             0              0               0  99.339  19.692   \n",
       "4              0             1              1               1  99.349  19.497   \n",
       "\n",
       "       RH    VPD  \n",
       "0  89.624  2.409  \n",
       "1  88.661  2.641  \n",
       "2  90.337  2.240  \n",
       "3  91.264  1.998  \n",
       "4  92.019  1.803  \n",
       "\n",
       "[5 rows x 35 columns]"
      ]
     },
     "execution_count": 14,
     "metadata": {},
     "output_type": "execute_result"
    }
   ],
   "source": [
    "import glob\n",
    "import os\n",
    "import pandas as pd\n",
    "data_dir = \"/Users/bhupendra/projects/crocus/data/flux_data/data/AmeriFlux/\"\n",
    "csv_files = glob.glob(os.path.join(data_dir, \"*.csv\"))\n",
    "df = pd.read_csv(csv_files[0])\n",
    "df.head()"
   ]
  },
  {
   "cell_type": "markdown",
   "metadata": {},
   "source": [
    "### Out-of-Range Detection\n",
    "\n",
    "Now we implement a function to flag out-of-range values for a given variable. The function will mark each data point as:\n",
    "\n",
    "    \"ERROR\" if it lies outside the extended range (beyond ±5% buffer).\n",
    "    \"WARN\" if it lies outside the base range but within the buffer.\n",
    "    \"\" (empty string) if it is within the acceptable range.\n",
    "\n",
    "We will apply this to each column for which we have defined a physical range:"
   ]
  },
  {
   "cell_type": "code",
   "execution_count": 15,
   "metadata": {},
   "outputs": [
    {
     "name": "stdout",
     "output_type": "stream",
     "text": [
      "Column SW_IN not found in data; skipping.\n",
      "Column PPFD_IN not found in data; skipping.\n",
      "Flagged TA values (out-of-range):\n",
      "Flagged RH values (out-of-range):\n",
      "Flagged WS values (out-of-range):\n",
      "Flagged USTAR values (out-of-range):\n",
      "Flagged FC values (out-of-range):\n",
      "Flagged RH values (out-of-range):\n"
     ]
    }
   ],
   "source": [
    "def flag_out_of_range(series, min_val, max_val, buffer_ratio=0.05):\n",
    "    \"\"\"Flag values in the series that fall outside the physical range (with buffer).\"\"\"\n",
    "    base_min, base_max = min_val, max_val\n",
    "    rng = base_max - base_min\n",
    "    # Extended range with ±buffer_ratio\n",
    "    ext_min = base_min - buffer_ratio * rng\n",
    "    ext_max = base_max + buffer_ratio * rng\n",
    "    \n",
    "    flags = pd.Series(\"\", index=series.index, dtype=str)  # default no flag (empty string)\n",
    "    # Identify warnings and errors\n",
    "    warn_mask = ((series < base_min) & (series >= ext_min)) | ((series > base_max) & (series <= ext_max))\n",
    "    error_mask = (series < ext_min) | (series > ext_max)\n",
    "    flags[warn_mask] = \"WARN\"\n",
    "    flags[error_mask] = \"ERROR\"\n",
    "    return flags\n",
    "\n",
    "# Apply out-of-range flagging for each variable in physical_ranges\n",
    "range_flags = {}  # to store flag Series for each variable\n",
    "for col, (min_val, max_val) in physical_ranges.items():\n",
    "    if col in df.columns:\n",
    "        range_flags[col] = flag_out_of_range(df[col], min_val, max_val, buffer_ratio=0)\n",
    "        print(f\"Flagged {col} values (out-of-range):\")\n",
    "    else:\n",
    "        print(f\"Column {col} not found in data; skipping.\")\n",
    "\n",
    "# Example: display any out-of-range flags for RH (Relative Humidity)\n",
    "rh_flags = range_flags.get('RH')\n",
    "if rh_flags is not None:\n",
    "    flagged_rh = df[rh_flags != \"\"].copy()\n",
    "    flagged_rh['RH_flag'] = rh_flags[rh_flags != \"\"]\n",
    "    print(\"Flagged RH values (out-of-range):\")\n",
    "    #print(flagged_rh[['TIMESTAMP_START','RH','RH_flag']].to_string(index=False))\n"
   ]
  },
  {
   "cell_type": "markdown",
   "metadata": {},
   "source": [
    "In the output above, we list any relative humidity values that were flagged. The RH_flag column shows \"WARN\" for values slightly outside 0–100% (within 0%) and \"ERROR\" for values well beyond that range. Similar flags are computed for other variables (e.g., any negative radiation or extreme temperature, if present).\n",
    "\n",
    "To visualize the distribution of values and verify the ranges, you can plot histograms with the expected range overlaid:"
   ]
  },
  {
   "cell_type": "code",
   "execution_count": 16,
   "metadata": {},
   "outputs": [
    {
     "data": {
      "image/png": "[encoded data removed]",
      "text/plain": [
       "<Figure size 640x480 with 1 Axes>"
      ]
     },
     "metadata": {},
     "output_type": "display_data"
    }
   ],
   "source": [
    "import matplotlib.pyplot as plt\n",
    "\n",
    "# Histogram of RH with range bounds\n",
    "plt.figure()\n",
    "plt.hist(df['RH'].dropna(), bins=50, color='skyblue', edgecolor='black')\n",
    "plt.axvline(physical_ranges['RH'][0], color='red', linestyle='--', label='Min expected')\n",
    "plt.axvline(physical_ranges['RH'][1], color='red', linestyle='--', label='Max expected')\n",
    "plt.title('RH Distribution with Expected Range')\n",
    "plt.xlabel('RH (%)'); plt.ylabel('Frequency')\n",
    "plt.legend()\n",
    "plt.show()\n"
   ]
  },
  {
   "cell_type": "markdown",
   "metadata": {},
   "source": [
    "Interpretation: The histogram helps to see if a significant portion of data lies outside the expected 0–100% range. Values slightly above 100% might appear (due to sensor error or dew formation on sensor), but persistent or large out-of-range values would be clearly visible and are flagged for review.\n",
    "Variability Checks: Trends, Step Changes, and Constant Values\n",
    "\n",
    "Beyond simple value ranges, the Physical Range module also suggests examining the temporal variability of each variable​\n",
    "ameriflux.lbl.gov\n",
    ". This includes detecting long-term trends (gradual drifts), step changes (sudden shifts in the data mean or range), and periods of constant or repeating values (which may indicate data fill or instrument stall).\n",
    "\n",
    "1. Time Series Visualization: Plotting each variable over time is one of the best ways to spot trends or step changes. Look for gradual increases or decreases in the baseline or amplitude over months/years (trends), or an abrupt jump at a specific time (step change).\n",
    "\n",
    "Example of time series illustrating variability issues: (1) a downward trend in the max & min of soil heat flux (G); (2) a trend in the max wind speed (WS); (3) a step change in the range of soil temperature (TS) values​\n",
    "ameriflux.lbl.gov\n",
    "."
   ]
  },
  {
   "cell_type": "markdown",
   "metadata": {},
   "source": [
    "\n",
    "## Not tested at all because the data is not available to me\n",
    "In our dataset, we can group data by year (or another period) and compare statistics to detect changes:"
   ]
  },
  {
   "cell_type": "code",
   "execution_count": 17,
   "metadata": {},
   "outputs": [
    {
     "ename": "KeyError",
     "evalue": "'TIMESTAMP'",
     "output_type": "error",
     "traceback": [
      "\u001b[0;31m---------------------------------------------------------------------------\u001b[0m",
      "\u001b[0;31mKeyError\u001b[0m                                  Traceback (most recent call last)",
      "File \u001b[0;32m~/anaconda3/envs/data/lib/python3.12/site-packages/pandas/core/indexes/base.py:3805\u001b[0m, in \u001b[0;36mIndex.get_loc\u001b[0;34m(self, key)\u001b[0m\n\u001b[1;32m   3804\u001b[0m \u001b[38;5;28;01mtry\u001b[39;00m:\n\u001b[0;32m-> 3805\u001b[0m     \u001b[38;5;28;01mreturn\u001b[39;00m \u001b[38;5;28;43mself\u001b[39;49m\u001b[38;5;241;43m.\u001b[39;49m\u001b[43m_engine\u001b[49m\u001b[38;5;241;43m.\u001b[39;49m\u001b[43mget_loc\u001b[49m\u001b[43m(\u001b[49m\u001b[43mcasted_key\u001b[49m\u001b[43m)\u001b[49m\n\u001b[1;32m   3806\u001b[0m \u001b[38;5;28;01mexcept\u001b[39;00m \u001b[38;5;167;01mKeyError\u001b[39;00m \u001b[38;5;28;01mas\u001b[39;00m err:\n",
      "File \u001b[0;32mindex.pyx:167\u001b[0m, in \u001b[0;36mpandas._libs.index.IndexEngine.get_loc\u001b[0;34m()\u001b[0m\n",
      "File \u001b[0;32mindex.pyx:196\u001b[0m, in \u001b[0;36mpandas._libs.index.IndexEngine.get_loc\u001b[0;34m()\u001b[0m\n",
      "File \u001b[0;32mpandas/_libs/hashtable_class_helper.pxi:7081\u001b[0m, in \u001b[0;36mpandas._libs.hashtable.PyObjectHashTable.get_item\u001b[0;34m()\u001b[0m\n",
      "File \u001b[0;32mpandas/_libs/hashtable_class_helper.pxi:7089\u001b[0m, in \u001b[0;36mpandas._libs.hashtable.PyObjectHashTable.get_item\u001b[0;34m()\u001b[0m\n",
      "\u001b[0;31mKeyError\u001b[0m: 'TIMESTAMP'",
      "\nThe above exception was the direct cause of the following exception:\n",
      "\u001b[0;31mKeyError\u001b[0m                                  Traceback (most recent call last)",
      "Cell \u001b[0;32mIn[17], line 2\u001b[0m\n\u001b[1;32m      1\u001b[0m \u001b[38;5;66;03m# Analyze year-to-year statistics for key variables to detect changes\u001b[39;00m\n\u001b[0;32m----> 2\u001b[0m df[\u001b[38;5;124m'\u001b[39m\u001b[38;5;124mYear\u001b[39m\u001b[38;5;124m'\u001b[39m] \u001b[38;5;241m=\u001b[39m \u001b[43mdf\u001b[49m\u001b[43m[\u001b[49m\u001b[38;5;124;43m'\u001b[39;49m\u001b[38;5;124;43mTIMESTAMP\u001b[39;49m\u001b[38;5;124;43m'\u001b[39;49m\u001b[43m]\u001b[49m\u001b[38;5;241m.\u001b[39mdt\u001b[38;5;241m.\u001b[39myear\n\u001b[1;32m      3\u001b[0m yearly_stats \u001b[38;5;241m=\u001b[39m df\u001b[38;5;241m.\u001b[39mgroupby(\u001b[38;5;124m'\u001b[39m\u001b[38;5;124mYear\u001b[39m\u001b[38;5;124m'\u001b[39m)\u001b[38;5;241m.\u001b[39magg({\n\u001b[1;32m      4\u001b[0m     \u001b[38;5;124m'\u001b[39m\u001b[38;5;124mSW_IN\u001b[39m\u001b[38;5;124m'\u001b[39m: [\u001b[38;5;124m'\u001b[39m\u001b[38;5;124mmin\u001b[39m\u001b[38;5;124m'\u001b[39m,\u001b[38;5;124m'\u001b[39m\u001b[38;5;124mmax\u001b[39m\u001b[38;5;124m'\u001b[39m,\u001b[38;5;124m'\u001b[39m\u001b[38;5;124mmean\u001b[39m\u001b[38;5;124m'\u001b[39m],\n\u001b[1;32m      5\u001b[0m     \u001b[38;5;124m'\u001b[39m\u001b[38;5;124mPPFD_IN\u001b[39m\u001b[38;5;124m'\u001b[39m: [\u001b[38;5;124m'\u001b[39m\u001b[38;5;124mmin\u001b[39m\u001b[38;5;124m'\u001b[39m,\u001b[38;5;124m'\u001b[39m\u001b[38;5;124mmax\u001b[39m\u001b[38;5;124m'\u001b[39m,\u001b[38;5;124m'\u001b[39m\u001b[38;5;124mmean\u001b[39m\u001b[38;5;124m'\u001b[39m],\n\u001b[1;32m      6\u001b[0m     \u001b[38;5;124m'\u001b[39m\u001b[38;5;124mTA\u001b[39m\u001b[38;5;124m'\u001b[39m: [\u001b[38;5;124m'\u001b[39m\u001b[38;5;124mmin\u001b[39m\u001b[38;5;124m'\u001b[39m,\u001b[38;5;124m'\u001b[39m\u001b[38;5;124mmax\u001b[39m\u001b[38;5;124m'\u001b[39m,\u001b[38;5;124m'\u001b[39m\u001b[38;5;124mmean\u001b[39m\u001b[38;5;124m'\u001b[39m],\n\u001b[1;32m      7\u001b[0m     \u001b[38;5;124m'\u001b[39m\u001b[38;5;124mWS\u001b[39m\u001b[38;5;124m'\u001b[39m: [\u001b[38;5;124m'\u001b[39m\u001b[38;5;124mmin\u001b[39m\u001b[38;5;124m'\u001b[39m,\u001b[38;5;124m'\u001b[39m\u001b[38;5;124mmax\u001b[39m\u001b[38;5;124m'\u001b[39m,\u001b[38;5;124m'\u001b[39m\u001b[38;5;124mmean\u001b[39m\u001b[38;5;124m'\u001b[39m]\n\u001b[1;32m      8\u001b[0m })\n\u001b[1;32m      9\u001b[0m \u001b[38;5;28mprint\u001b[39m(\u001b[38;5;124m\"\u001b[39m\u001b[38;5;124mYearly summary (min, max, mean):\u001b[39m\u001b[38;5;124m\"\u001b[39m)\n",
      "File \u001b[0;32m~/anaconda3/envs/data/lib/python3.12/site-packages/pandas/core/frame.py:4090\u001b[0m, in \u001b[0;36mDataFrame.__getitem__\u001b[0;34m(self, key)\u001b[0m\n\u001b[1;32m   4088\u001b[0m \u001b[38;5;28;01mif\u001b[39;00m \u001b[38;5;28mself\u001b[39m\u001b[38;5;241m.\u001b[39mcolumns\u001b[38;5;241m.\u001b[39mnlevels \u001b[38;5;241m>\u001b[39m \u001b[38;5;241m1\u001b[39m:\n\u001b[1;32m   4089\u001b[0m     \u001b[38;5;28;01mreturn\u001b[39;00m \u001b[38;5;28mself\u001b[39m\u001b[38;5;241m.\u001b[39m_getitem_multilevel(key)\n\u001b[0;32m-> 4090\u001b[0m indexer \u001b[38;5;241m=\u001b[39m \u001b[38;5;28;43mself\u001b[39;49m\u001b[38;5;241;43m.\u001b[39;49m\u001b[43mcolumns\u001b[49m\u001b[38;5;241;43m.\u001b[39;49m\u001b[43mget_loc\u001b[49m\u001b[43m(\u001b[49m\u001b[43mkey\u001b[49m\u001b[43m)\u001b[49m\n\u001b[1;32m   4091\u001b[0m \u001b[38;5;28;01mif\u001b[39;00m is_integer(indexer):\n\u001b[1;32m   4092\u001b[0m     indexer \u001b[38;5;241m=\u001b[39m [indexer]\n",
      "File \u001b[0;32m~/anaconda3/envs/data/lib/python3.12/site-packages/pandas/core/indexes/base.py:3812\u001b[0m, in \u001b[0;36mIndex.get_loc\u001b[0;34m(self, key)\u001b[0m\n\u001b[1;32m   3807\u001b[0m     \u001b[38;5;28;01mif\u001b[39;00m \u001b[38;5;28misinstance\u001b[39m(casted_key, \u001b[38;5;28mslice\u001b[39m) \u001b[38;5;129;01mor\u001b[39;00m (\n\u001b[1;32m   3808\u001b[0m         \u001b[38;5;28misinstance\u001b[39m(casted_key, abc\u001b[38;5;241m.\u001b[39mIterable)\n\u001b[1;32m   3809\u001b[0m         \u001b[38;5;129;01mand\u001b[39;00m \u001b[38;5;28many\u001b[39m(\u001b[38;5;28misinstance\u001b[39m(x, \u001b[38;5;28mslice\u001b[39m) \u001b[38;5;28;01mfor\u001b[39;00m x \u001b[38;5;129;01min\u001b[39;00m casted_key)\n\u001b[1;32m   3810\u001b[0m     ):\n\u001b[1;32m   3811\u001b[0m         \u001b[38;5;28;01mraise\u001b[39;00m InvalidIndexError(key)\n\u001b[0;32m-> 3812\u001b[0m     \u001b[38;5;28;01mraise\u001b[39;00m \u001b[38;5;167;01mKeyError\u001b[39;00m(key) \u001b[38;5;28;01mfrom\u001b[39;00m \u001b[38;5;21;01merr\u001b[39;00m\n\u001b[1;32m   3813\u001b[0m \u001b[38;5;28;01mexcept\u001b[39;00m \u001b[38;5;167;01mTypeError\u001b[39;00m:\n\u001b[1;32m   3814\u001b[0m     \u001b[38;5;66;03m# If we have a listlike key, _check_indexing_error will raise\u001b[39;00m\n\u001b[1;32m   3815\u001b[0m     \u001b[38;5;66;03m#  InvalidIndexError. Otherwise we fall through and re-raise\u001b[39;00m\n\u001b[1;32m   3816\u001b[0m     \u001b[38;5;66;03m#  the TypeError.\u001b[39;00m\n\u001b[1;32m   3817\u001b[0m     \u001b[38;5;28mself\u001b[39m\u001b[38;5;241m.\u001b[39m_check_indexing_error(key)\n",
      "\u001b[0;31mKeyError\u001b[0m: 'TIMESTAMP'"
     ]
    }
   ],
   "source": [
    "# Analyze year-to-year statistics for key variables to detect changes\n",
    "df['Year'] = df['TIMESTAMP'].dt.year\n",
    "yearly_stats = df.groupby('Year').agg({\n",
    "    'SW_IN': ['min','max','mean'],\n",
    "    'PPFD_IN': ['min','max','mean'],\n",
    "    'TA': ['min','max','mean'],\n",
    "    'WS': ['min','max','mean']\n",
    "})\n",
    "print(\"Yearly summary (min, max, mean):\")\n",
    "print(yearly_stats)"
   ]
  },
  {
   "cell_type": "markdown",
   "metadata": {},
   "source": [
    "By comparing the year 2020 vs 2021 summary, we might notice, for example, that PPFD_IN maximum values in 2021 are lower than in 2020, hinting at a possible calibration change (a form of step change in the full range). Similarly, if the mean air temperature TA in 2021 is consistently higher than 2020, it could indicate a warming trend or a sensor drift (if not a real climate signal).\n",
    "\n",
    "2. Detecting Constant or Repeating Values: Long sequences of identical values can indicate that an instrument was frozen or data was filled with a constant. We implement a check for runs of repeated values beyond a certain length:"
   ]
  },
  {
   "cell_type": "code",
   "execution_count": 18,
   "metadata": {},
   "outputs": [],
   "source": [
    "def flag_constant_sequence(series, min_length=5):\n",
    "    \"\"\"Return a boolean Series indicating where `series` has a constant run of length >= min_length.\"\"\"\n",
    "    flags = pd.Series(False, index=series.index)\n",
    "    if series.isna().all():\n",
    "        return flags  # no data\n",
    "    run_length = 1\n",
    "    for i in range(1, len(series)):\n",
    "        if pd.isna(series.iloc[i]) or pd.isna(series.iloc[i-1]) or series.iloc[i] != series.iloc[i-1]:\n",
    "            # sequence breaks here\n",
    "            if run_length >= min_length:\n",
    "                flags.iloc[i-run_length:i] = True\n",
    "            run_length = 1\n",
    "        else:\n",
    "            # value is same as previous, increment run length\n",
    "            run_length += 1\n",
    "    # Check the final run\n",
    "    if run_length >= min_length:\n",
    "        flags.iloc[len(series)-run_length:] = True\n",
    "    return flags\n",
    "\n",
    "# Apply constant sequence check for each variable (if needed)\n",
    "constant_flags = {}\n",
    "for col in ['SW_IN','PPFD_IN','TA','RH','WS','FC']:\n",
    "    if col in df.columns:\n",
    "        constant_flags[col] = flag_constant_sequence(df[col], min_length=5)\n",
    "\n",
    "# Example: examine constant runs in wind speed (WS)\n",
    "ws_const_flags = constant_flags.get('WS')\n",
    "if ws_const_flags is not None and ws_const_flags.any():\n",
    "    print(\"Detected constant wind speed sequences (index positions):\")\n",
    "    const_indices = np.where(ws_const_flags)[0]\n",
    "    print(const_indices[:10], \"...\" if len(const_indices)>10 else \"\")\n",
    "    # You could also mark these segments on a time series plot for WS.\n"
   ]
  },
  {
   "cell_type": "markdown",
   "metadata": {},
   "source": [
    "The above function flags any segment of 5 or more consecutive identical values. We applied it to wind speed (WS); the output shows the indices where WS was constant. In a real scenario, one would investigate those time ranges – if an instrument was stuck or if these values were gap-filled with a constant, it should be addressed.\n",
    "\n",
    "3. Resolution Change Checks: Sometimes a change in the measurement or recording resolution occurs (for instance, sensor firmware update leading to higher precision, or a switch from half-hourly to hourly averaging). This can be spotted by:\n",
    "\n",
    "    Changes in the time step (we already ensured our timestamps are uniformly spaced 30 minutes; if not, that would be flagged in a timestamp alignment check).\n",
    "    Changes in value increments (e.g., data initially recorded to 3 decimal places, later to 1 decimal place, or an abrupt change in variability).\n",
    "\n",
    "To check temporal resolution, we ensure the timestamp differences are uniform:"
   ]
  },
  {
   "cell_type": "markdown",
   "metadata": {},
   "source": [
    "## Multivariate Comparison QA/QC\n",
    "\n",
    "The Multivariate Comparison Module checks whether pairs of related variables maintain a consistent relationship​\n",
    "ameriflux.lbl.gov\n",
    ". Many atmospheric and flux measurements are expected to covary in predictable ways. For example:\n",
    "\n",
    "    Incoming shortwave radiation (SW_IN) and photosynthetic photon flux density (PPFD_IN) are both measures of solar radiation (one broadband, one PAR-specific) and should be linearly correlated under clear conditions.\n",
    "    Friction velocity (USTAR) and wind speed (WS) are related (higher wind generally yields higher u*).\n",
    "    Air temperature measured by different sensors (e.g., regular thermistor vs. sonic anemometer temperature) should agree.\n",
    "\n",
    "We use scatter plots and regression analysis to evaluate these relationships. A tight, linear scatter plot indicates a stable relationship, whereas excessive scatter or systematic deviations indicate potential issues (e.g., one sensor shaded or drifted). We will fit a linear regression to each variable pair and flag outliers that deviate significantly from the fit​\n",
    "ameriflux.lbl.gov\n",
    ". Additionally, by computing the regression slope for each year, we can detect trends or step changes in the relationship over time​\n",
    "ameriflux.lbl.gov\n",
    ".\n",
    "\n",
    "Example scatter plot (left) and time series (right) for PPFD_IN vs SW_IN in one year. The green line is the linear regression fit​\n",
    "ameriflux.lbl.gov\n",
    ". Red circles highlight outliers that deviate from the expected relationship, suggesting periods when one sensor (PPFD) was likely shaded while the other (SW) was not.\n",
    "Define Related Variable Pairs\n",
    "\n",
    "We specify which pairs of variables to compare. You can modify this list based on the available data and known relationships:# "
   ]
  },
  {
   "cell_type": "code",
   "execution_count": 19,
   "metadata": {},
   "outputs": [],
   "source": [
    "# Define pairs of related variables to compare\n",
    "var_pairs = [\n",
    "    ('SW_IN', 'PPFD_IN'),  # Shortwave vs. PPFD (should be linear)\n",
    "    ('USTAR', 'WS')        # Friction velocity vs. wind speed (expected correlation)\n",
    "    # Add other pairs as needed, e.g., ('TA', 'T_SONIC') if sonic temperature was available.\n",
    "]\n"
   ]
  },
  {
   "cell_type": "markdown",
   "metadata": {},
   "source": [
    "### Regression and Outlier Detection\n",
    "\n",
    "For each pair, we will perform a linear regression and identify outliers. We'll create a function to do this and compute the regression line (slope and intercept) and R² for informational purposes. We define an outlier as a point whose vertical residual from the regression line exceeds a certain threshold (e.g., 3 times the standard deviation of residuals, which roughly corresponds to points outside 99% normal prediction interval if errors are Gaussian). This threshold can be adjusted via a parameter."
   ]
  },
  {
   "cell_type": "code",
   "execution_count": 20,
   "metadata": {},
   "outputs": [
    {
     "name": "stdout",
     "output_type": "stream",
     "text": [
      "One of SW_IN,PPFD_IN not in DataFrame, skipping pair.\n",
      "Regression WS vs USTAR: slope=3.396, intercept=0.270, r=0.897\n",
      " -> Flagged 7 outliers for USTAR vs WS\n"
     ]
    }
   ],
   "source": [
    "import numpy as np\n",
    "\n",
    "def regression_outliers(x, y, sigma_threshold=3.0):\n",
    "    \"\"\"\n",
    "    Perform linear regression of y vs x and flag outliers whose residuals exceed sigma_threshold * std(residual).\n",
    "    Returns:\n",
    "      - flags: boolean Series of the same length as x/y indicating outlier points,\n",
    "      - slope, intercept, r_value: regression parameters for y = slope*x + intercept (r_value is correlation coefficient).\n",
    "    \"\"\"\n",
    "    mask = (~pd.isna(x)) & (~pd.isna(y))\n",
    "    x_valid = x[mask]; y_valid = y[mask]\n",
    "    if len(x_valid) < 2:\n",
    "        # Not enough data to regress\n",
    "        return pd.Series(False, index=x.index), None, None, None\n",
    "    # Linear regression (using numpy polyfit for simplicity)\n",
    "    slope, intercept = np.polyfit(x_valid, y_valid, 1)\n",
    "    # Compute residuals\n",
    "    y_pred = intercept + slope * x_valid\n",
    "    residuals = y_valid - y_pred\n",
    "    # Outlier criterion\n",
    "    resid_std = residuals.std(ddof=0)\n",
    "    cutoff = sigma_threshold * resid_std\n",
    "    outlier_mask = np.abs(residuals) > cutoff\n",
    "    # Boolean series for flags (aligned with original index, default False)\n",
    "    flags = pd.Series(False, index=x.index)\n",
    "    flags.loc[outlier_mask.index] = outlier_mask.values\n",
    "    # Compute correlation coefficient (r)\n",
    "    corr_matrix = np.corrcoef(x_valid, y_valid)\n",
    "    r_value = corr_matrix[0,1] if corr_matrix.size > 1 else None\n",
    "    return flags, slope, intercept, r_value\n",
    "\n",
    "# Apply multivariate comparison checks\n",
    "multi_flags = {}  # store outlier flags for each pair\n",
    "regression_results = {}  # to store slopes, intercepts, etc.\n",
    "for (col1, col2) in var_pairs:\n",
    "    if col1 in df.columns and col2 in df.columns:\n",
    "        flags, slope, intercept, r_val = regression_outliers(df[col1], df[col2], sigma_threshold=3.0)\n",
    "        multi_flags[(col1, col2)] = flags\n",
    "        regression_results[(col1, col2)] = {'slope': slope, 'intercept': intercept, 'r': r_val}\n",
    "        print(f\"Regression {col2} vs {col1}: slope={slope:.3f}, intercept={intercept:.3f}, r={r_val:.3f}\")\n",
    "        out_count = flags.sum()\n",
    "        if out_count > 0:\n",
    "            print(f\" -> Flagged {out_count} outliers for {col1} vs {col2}\")\n",
    "    else:\n",
    "        print(f\"One of {col1},{col2} not in DataFrame, skipping pair.\")\n"
   ]
  },
  {
   "cell_type": "markdown",
   "metadata": {},
   "source": [
    "The printed output above shows the regression slope, intercept, and correlation coefficient (r) for each pair, as well as how many outliers were flagged. For our example data:\n",
    "\n",
    "    We expect SW_IN vs PPFD_IN to have a strong linear relationship (high r). The slope would be around 0.5 because PPFD is roughly 2x SW. We introduced some outliers via shading; those should be flagged.\n",
    "    We expect USTAR vs WS to correlate moderately (since u* increases with wind, but not perfectly). Outliers here might indicate periods of unusual turbulence decoupling.\n",
    "\n",
    "Scatter Plot Visualization: We can create scatter plots highlighting the regression and outliers for a visual check:"
   ]
  },
  {
   "cell_type": "code",
   "execution_count": 21,
   "metadata": {},
   "outputs": [],
   "source": [
    "# Scatter plot for SW_IN vs PPFD_IN with regression line and outliers highlighted\n",
    "xcol, ycol = 'PPFD_IN', 'SW_IN'\n",
    "if (xcol, ycol) in regression_results:\n",
    "    slope = regression_results[(xcol, ycol)]['slope']\n",
    "    intercept = regression_results[(xcol, ycol)]['intercept']\n",
    "    flags = multi_flags[(xcol, ycol)]\n",
    "    plt.figure(figsize=(5,4))\n",
    "    plt.scatter(df[xcol], df[ycol], c='gray', alpha=0.5, label='Data')\n",
    "    plt.scatter(df[xcol][flags], df[ycol][flags], facecolors='none', edgecolors='red', label='Outliers')\n",
    "    # plot regression line over range of x\n",
    "    xs = np.linspace(df[xcol].min(), df[xcol].max(), 100)\n",
    "    plt.plot(xs, intercept + slope*xs, color='green', label=f'Fit: y={slope:.2f}x+{intercept:.1f}')\n",
    "    plt.xlabel(xcol); plt.ylabel(ycol)\n",
    "    plt.title(f'{ycol} vs {xcol}')\n",
    "    plt.legend()\n",
    "    plt.show()\n"
   ]
  },
  {
   "cell_type": "markdown",
   "metadata": {},
   "source": [
    "In this plot, red-circled points deviate significantly from the green regression line. If outliers cluster in time (for example, many outliers in a particular month or year), that suggests a systematic issue during that period (e.g., sensor fouling or shading). We should investigate those time frames in the time series plot of the variables.\n",
    "\n",
    "Trend in Relationship Over Time: To detect changes in the relationship (e.g., sensor calibration drift), we can compute the regression each year:"
   ]
  },
  {
   "cell_type": "code",
   "execution_count": 22,
   "metadata": {},
   "outputs": [],
   "source": [
    "# Check year-to-year regression slope for SW_IN vs PPFD_IN\n",
    "if 'Year' in df.columns:\n",
    "    yearly_slopes = {}\n",
    "    for year, grp in df.groupby('Year'):\n",
    "        flags, slope, intercept, r_val = regression_outliers(grp['PPFD_IN'], grp['SW_IN'], sigma_threshold=3.0)\n",
    "        yearly_slopes[year] = slope\n",
    "        print(f\"{year}: slope={slope:.3f}, r={r_val:.3f}, outliers={flags.sum()}\")\n",
    "    # Evaluate slope change\n",
    "    if len(yearly_slopes) >= 2:\n",
    "        years = sorted(yearly_slopes.keys())\n",
    "        slope0 = yearly_slopes[years[0]]\n",
    "        for yr in years[1:]:\n",
    "            change_pct = (yearly_slopes[yr] - slope0)/slope0 * 100.0\n",
    "            print(f\"Change in slope from {years[0]} to {yr}: {change_pct:.1f}%\")\n"
   ]
  },
  {
   "cell_type": "markdown",
   "metadata": {},
   "source": [
    "If the slope or R² changes markedly between years (more than a few percent), it could indicate a problem. In our synthetic data, we expect to see a noticeable change in slope (~10%) between 2020 and 2021 for PPFD vs SW, reflecting the calibration shift we introduced. In real data, any significant year-to-year change in the regression could mean one sensor's sensitivity changed or an obstruction affected one sensor in a particular year."
   ]
  },
  {
   "cell_type": "markdown",
   "metadata": {},
   "source": [
    "USTAR Filtering QA/QC\n",
    "\n",
    "The USTAR Filtering Module checks whether the CO₂ flux data (FC) appear to have been filtered based on the friction velocity (USTAR) threshold​\n",
    "ameriflux.lbl.gov\n",
    ". At night, low turbulence (low u*) conditions often lead to underestimation of ecosystem respiration, and many flux processing pipelines filter out CO₂ fluxes below a site-specific u* threshold. AmeriFlux requires that submitted data are not pre-filtered by u*​\n",
    "ameriflux.lbl.gov\n",
    ", so we need to detect if such filtering was inadvertently applied.\n",
    "\n",
    "The approach:\n",
    "\n",
    "    Compare the distribution of USTAR values when CO₂ flux is reported vs. all USTAR values​\n",
    "    ameriflux.lbl.gov\n",
    "    . If fluxes were filtered, we expect no reported flux data below a certain u* value, even though the u* sensor may have recorded low values.\n",
    "    Identify the lowest u* value for which FC is not missing, and the lowest u* overall. A large gap between these (with the lowest-with-FC significantly higher than the absolute lowest u*) suggests a filtering threshold​\n",
    "    ameriflux.lbl.gov\n",
    "    .\n",
    "    We will flag all data points where USTAR is below the suspected threshold and FC is missing as likely filtered.\n",
    "\n",
    "Example USTAR vs. time plot highlighting potential u filtering. Black points are all USTAR data; red points indicate USTAR when FC is reported. Here, the lowest red point (when FC is present) is around 0.1 m/s, whereas USTAR measurements (black) go down to ~0.0 – implying flux data were excluded below 0.1 m/s (the inferred filtering threshold)​\n",
    "ameriflux.lbl.gov\n",
    ".*\n",
    "Detecting USTAR Threshold Filtering\n",
    "\n",
    "We'll implement a check for u* filtering and create a flag for points likely affected:"
   ]
  },
  {
   "cell_type": "code",
   "execution_count": 23,
   "metadata": {},
   "outputs": [],
   "source": [
    "def check_ustar_filtering(df, ustar_col='USTAR', fc_col='FC'):\n",
    "    \"\"\"Determine if FC appears filtered by USTAR. Returns the inferred threshold (or None) and a boolean Series for flagged points.\"\"\"\n",
    "    if ustar_col not in df.columns or fc_col not in df.columns:\n",
    "        print(\"USTAR or FC column not in DataFrame.\")\n",
    "        return None, pd.Series(False, index=df.index)\n",
    "    ustar = df[ustar_col]\n",
    "    fc = df[fc_col]\n",
    "    if fc.dropna().empty:\n",
    "        return None, pd.Series(False, index=df.index)\n",
    "    min_ustar_all = ustar.min(skipna=True)\n",
    "    min_ustar_with_fc = ustar[fc.notna()].min(skipna=True)\n",
    "    inferred_thresh = None\n",
    "    flagged = pd.Series(False, index=df.index)\n",
    "    # If the lowest u* with flux is significantly higher than the overall lowest u* (allow a tiny tolerance)\n",
    "    if (min_ustar_with_fc - min_ustar_all) > 0.01 and min_ustar_with_fc > 0:\n",
    "        inferred_thresh = round(min_ustar_with_fc, 3)\n",
    "        # Flag all points where u* is below this threshold and FC is NaN (i.e., likely filtered out)\n",
    "        flagged = (ustar < inferred_thresh) & (fc.isna())\n",
    "    return inferred_thresh, flagged\n",
    "\n",
    "ustar_threshold, ustar_flags = check_ustar_filtering(df, ustar_col='USTAR', fc_col='FC')\n",
    "if ustar_threshold:\n",
    "    print(f\"Inferred USTAR filtering threshold: ~{ustar_threshold} m/s\")\n",
    "    print(f\"Number of points likely filtered due to low u*: {ustar_flags.sum()}\")\n"
   ]
  },
  {
   "cell_type": "markdown",
   "metadata": {},
   "source": [
    "If a threshold is inferred, the code prints it (in our example, we expect around 0.2 m/s as that was our imposed filter). It also prints how many data points were flagged as likely filtered. Those are the instances where flux (FC) is missing while u* was below the threshold. In real data, if you find such a pattern, it indicates the site may have removed low-u* fluxes before submission. The remedy would be to obtain unfiltered data or at least be cautious interpreting nighttime fluxes.\n",
    "\n",
    "We can also visualize the USTAR vs. FC relationship to confirm:"
   ]
  },
  {
   "cell_type": "code",
   "execution_count": 24,
   "metadata": {},
   "outputs": [
    {
     "ename": "KeyError",
     "evalue": "'TIMESTAMP'",
     "output_type": "error",
     "traceback": [
      "\u001b[0;31m---------------------------------------------------------------------------\u001b[0m",
      "\u001b[0;31mKeyError\u001b[0m                                  Traceback (most recent call last)",
      "File \u001b[0;32m~/anaconda3/envs/data/lib/python3.12/site-packages/pandas/core/indexes/base.py:3805\u001b[0m, in \u001b[0;36mIndex.get_loc\u001b[0;34m(self, key)\u001b[0m\n\u001b[1;32m   3804\u001b[0m \u001b[38;5;28;01mtry\u001b[39;00m:\n\u001b[0;32m-> 3805\u001b[0m     \u001b[38;5;28;01mreturn\u001b[39;00m \u001b[38;5;28;43mself\u001b[39;49m\u001b[38;5;241;43m.\u001b[39;49m\u001b[43m_engine\u001b[49m\u001b[38;5;241;43m.\u001b[39;49m\u001b[43mget_loc\u001b[49m\u001b[43m(\u001b[49m\u001b[43mcasted_key\u001b[49m\u001b[43m)\u001b[49m\n\u001b[1;32m   3806\u001b[0m \u001b[38;5;28;01mexcept\u001b[39;00m \u001b[38;5;167;01mKeyError\u001b[39;00m \u001b[38;5;28;01mas\u001b[39;00m err:\n",
      "File \u001b[0;32mindex.pyx:167\u001b[0m, in \u001b[0;36mpandas._libs.index.IndexEngine.get_loc\u001b[0;34m()\u001b[0m\n",
      "File \u001b[0;32mindex.pyx:196\u001b[0m, in \u001b[0;36mpandas._libs.index.IndexEngine.get_loc\u001b[0;34m()\u001b[0m\n",
      "File \u001b[0;32mpandas/_libs/hashtable_class_helper.pxi:7081\u001b[0m, in \u001b[0;36mpandas._libs.hashtable.PyObjectHashTable.get_item\u001b[0;34m()\u001b[0m\n",
      "File \u001b[0;32mpandas/_libs/hashtable_class_helper.pxi:7089\u001b[0m, in \u001b[0;36mpandas._libs.hashtable.PyObjectHashTable.get_item\u001b[0;34m()\u001b[0m\n",
      "\u001b[0;31mKeyError\u001b[0m: 'TIMESTAMP'",
      "\nThe above exception was the direct cause of the following exception:\n",
      "\u001b[0;31mKeyError\u001b[0m                                  Traceback (most recent call last)",
      "Cell \u001b[0;32mIn[24], line 3\u001b[0m\n\u001b[1;32m      1\u001b[0m \u001b[38;5;66;03m# Visualize USTAR vs time, marking points with and without FC\u001b[39;00m\n\u001b[1;32m      2\u001b[0m plt\u001b[38;5;241m.\u001b[39mfigure(figsize\u001b[38;5;241m=\u001b[39m(\u001b[38;5;241m10\u001b[39m,\u001b[38;5;241m3\u001b[39m))\n\u001b[0;32m----> 3\u001b[0m plt\u001b[38;5;241m.\u001b[39mplot(\u001b[43mdf\u001b[49m\u001b[43m[\u001b[49m\u001b[38;5;124;43m'\u001b[39;49m\u001b[38;5;124;43mTIMESTAMP\u001b[39;49m\u001b[38;5;124;43m'\u001b[39;49m\u001b[43m]\u001b[49m, df[\u001b[38;5;124m'\u001b[39m\u001b[38;5;124mUSTAR\u001b[39m\u001b[38;5;124m'\u001b[39m], \u001b[38;5;124m'\u001b[39m\u001b[38;5;124mk.\u001b[39m\u001b[38;5;124m'\u001b[39m, markersize\u001b[38;5;241m=\u001b[39m\u001b[38;5;241m2\u001b[39m, label\u001b[38;5;241m=\u001b[39m\u001b[38;5;124m'\u001b[39m\u001b[38;5;124mAll USTAR\u001b[39m\u001b[38;5;124m'\u001b[39m)\n\u001b[1;32m      4\u001b[0m \u001b[38;5;28;01mif\u001b[39;00m ustar_threshold:\n\u001b[1;32m      5\u001b[0m     \u001b[38;5;66;03m# highlight USTAR when FC is present\u001b[39;00m\n\u001b[1;32m      6\u001b[0m     plt\u001b[38;5;241m.\u001b[39mplot(df[\u001b[38;5;124m'\u001b[39m\u001b[38;5;124mTIMESTAMP\u001b[39m\u001b[38;5;124m'\u001b[39m][df[\u001b[38;5;124m'\u001b[39m\u001b[38;5;124mFC\u001b[39m\u001b[38;5;124m'\u001b[39m]\u001b[38;5;241m.\u001b[39mnotna()], df[\u001b[38;5;124m'\u001b[39m\u001b[38;5;124mUSTAR\u001b[39m\u001b[38;5;124m'\u001b[39m][df[\u001b[38;5;124m'\u001b[39m\u001b[38;5;124mFC\u001b[39m\u001b[38;5;124m'\u001b[39m]\u001b[38;5;241m.\u001b[39mnotna()], \u001b[38;5;124m'\u001b[39m\u001b[38;5;124mr.\u001b[39m\u001b[38;5;124m'\u001b[39m, markersize\u001b[38;5;241m=\u001b[39m\u001b[38;5;241m2\u001b[39m, label\u001b[38;5;241m=\u001b[39m\u001b[38;5;124m'\u001b[39m\u001b[38;5;124mUSTAR (FC reported)\u001b[39m\u001b[38;5;124m'\u001b[39m)\n",
      "File \u001b[0;32m~/anaconda3/envs/data/lib/python3.12/site-packages/pandas/core/frame.py:4090\u001b[0m, in \u001b[0;36mDataFrame.__getitem__\u001b[0;34m(self, key)\u001b[0m\n\u001b[1;32m   4088\u001b[0m \u001b[38;5;28;01mif\u001b[39;00m \u001b[38;5;28mself\u001b[39m\u001b[38;5;241m.\u001b[39mcolumns\u001b[38;5;241m.\u001b[39mnlevels \u001b[38;5;241m>\u001b[39m \u001b[38;5;241m1\u001b[39m:\n\u001b[1;32m   4089\u001b[0m     \u001b[38;5;28;01mreturn\u001b[39;00m \u001b[38;5;28mself\u001b[39m\u001b[38;5;241m.\u001b[39m_getitem_multilevel(key)\n\u001b[0;32m-> 4090\u001b[0m indexer \u001b[38;5;241m=\u001b[39m \u001b[38;5;28;43mself\u001b[39;49m\u001b[38;5;241;43m.\u001b[39;49m\u001b[43mcolumns\u001b[49m\u001b[38;5;241;43m.\u001b[39;49m\u001b[43mget_loc\u001b[49m\u001b[43m(\u001b[49m\u001b[43mkey\u001b[49m\u001b[43m)\u001b[49m\n\u001b[1;32m   4091\u001b[0m \u001b[38;5;28;01mif\u001b[39;00m is_integer(indexer):\n\u001b[1;32m   4092\u001b[0m     indexer \u001b[38;5;241m=\u001b[39m [indexer]\n",
      "File \u001b[0;32m~/anaconda3/envs/data/lib/python3.12/site-packages/pandas/core/indexes/base.py:3812\u001b[0m, in \u001b[0;36mIndex.get_loc\u001b[0;34m(self, key)\u001b[0m\n\u001b[1;32m   3807\u001b[0m     \u001b[38;5;28;01mif\u001b[39;00m \u001b[38;5;28misinstance\u001b[39m(casted_key, \u001b[38;5;28mslice\u001b[39m) \u001b[38;5;129;01mor\u001b[39;00m (\n\u001b[1;32m   3808\u001b[0m         \u001b[38;5;28misinstance\u001b[39m(casted_key, abc\u001b[38;5;241m.\u001b[39mIterable)\n\u001b[1;32m   3809\u001b[0m         \u001b[38;5;129;01mand\u001b[39;00m \u001b[38;5;28many\u001b[39m(\u001b[38;5;28misinstance\u001b[39m(x, \u001b[38;5;28mslice\u001b[39m) \u001b[38;5;28;01mfor\u001b[39;00m x \u001b[38;5;129;01min\u001b[39;00m casted_key)\n\u001b[1;32m   3810\u001b[0m     ):\n\u001b[1;32m   3811\u001b[0m         \u001b[38;5;28;01mraise\u001b[39;00m InvalidIndexError(key)\n\u001b[0;32m-> 3812\u001b[0m     \u001b[38;5;28;01mraise\u001b[39;00m \u001b[38;5;167;01mKeyError\u001b[39;00m(key) \u001b[38;5;28;01mfrom\u001b[39;00m \u001b[38;5;21;01merr\u001b[39;00m\n\u001b[1;32m   3813\u001b[0m \u001b[38;5;28;01mexcept\u001b[39;00m \u001b[38;5;167;01mTypeError\u001b[39;00m:\n\u001b[1;32m   3814\u001b[0m     \u001b[38;5;66;03m# If we have a listlike key, _check_indexing_error will raise\u001b[39;00m\n\u001b[1;32m   3815\u001b[0m     \u001b[38;5;66;03m#  InvalidIndexError. Otherwise we fall through and re-raise\u001b[39;00m\n\u001b[1;32m   3816\u001b[0m     \u001b[38;5;66;03m#  the TypeError.\u001b[39;00m\n\u001b[1;32m   3817\u001b[0m     \u001b[38;5;28mself\u001b[39m\u001b[38;5;241m.\u001b[39m_check_indexing_error(key)\n",
      "\u001b[0;31mKeyError\u001b[0m: 'TIMESTAMP'"
     ]
    },
    {
     "data": {
      "text/plain": [
       "<Figure size 1000x300 with 0 Axes>"
      ]
     },
     "metadata": {},
     "output_type": "display_data"
    }
   ],
   "source": [
    "# Visualize USTAR vs time, marking points with and without FC\n",
    "plt.figure(figsize=(10,3))\n",
    "plt.plot(df['TIMESTAMP'], df['USTAR'], 'k.', markersize=2, label='All USTAR')\n",
    "if ustar_threshold:\n",
    "    # highlight USTAR when FC is present\n",
    "    plt.plot(df['TIMESTAMP'][df['FC'].notna()], df['USTAR'][df['FC'].notna()], 'r.', markersize=2, label='USTAR (FC reported)')\n",
    "    plt.axhline(ustar_threshold, color='red', linestyle='--', label=f'Inferred threshold ~{ustar_threshold}')\n",
    "plt.xlabel('Time'); plt.ylabel('USTAR (m/s)')\n",
    "plt.legend()\n",
    "plt.title('USTAR values (black=all, red=with FC)')\n",
    "plt.show()\n"
   ]
  },
  {
   "cell_type": "markdown",
   "metadata": {},
   "source": [
    "In this time series plot of USTAR, if a u* filter was applied, we will see no red points (flux data) below the dashed threshold line, even though black points (all u* measurements) exist down to near 0. That gap between black and red indicates filtering. If no filtering was done, the red points would extend down to the minimum black points.\n",
    "Compile Flags and Save Flagged Data\n",
    "\n",
    "Finally, we gather all the flags from the various tests and add them to our DataFrame. We can create new columns for each flag type (physical range, multivariate, ustar) or combine them as needed. We'll then save the flagged data to a CSV file, including both original data and the flags.\n",
    "\n"
   ]
  },
  {
   "cell_type": "code",
   "execution_count": 25,
   "metadata": {},
   "outputs": [
    {
     "name": "stdout",
     "output_type": "stream",
     "text": [
      "Flagged data saved to flagged_data_output.csv\n"
     ]
    }
   ],
   "source": [
    "# Combine flags into the DataFrame\n",
    "flagged_df = df.copy()\n",
    "\n",
    "# Add physical range flags (e.g., new column per variable)\n",
    "for col, flags in range_flags.items():\n",
    "    flagged_df[f'{col}_range_flag'] = flags\n",
    "\n",
    "# Add constant sequence flags (as separate columns or combined)\n",
    "for col, flags in constant_flags.items():\n",
    "    if flags.any():\n",
    "        flagged_df[f'{col}_const_flag'] = flags.replace({False: \"\", True: \"CONST\"})\n",
    "\n",
    "# Add multivariate outlier flags (one column per pair or per variable)\n",
    "for (col1, col2), flags in multi_flags.items():\n",
    "    # We'll mark outliers for each pair with a tag like \"MV_{col1}_{col2}\"\n",
    "    tag = f'MV_{col1}_{col2}'\n",
    "    flagged_df[tag] = flags.replace({False: \"\", True: \"OUTLIER\"})\n",
    "\n",
    "# Add USTAR filtering flag\n",
    "if ustar_threshold is not None:\n",
    "    flagged_df['USTAR_filter_flag'] = ustar_flags.replace({False: \"\", True: \"FILTERED\"})\n",
    "else:\n",
    "    flagged_df['USTAR_filter_flag'] = \"\"\n",
    "\n",
    "# Save to CSV\n",
    "flagged_df.to_csv('flagged_data_output.csv', index=False)\n",
    "print(\"Flagged data saved to flagged_data_output.csv\")\n",
    "# (In a real environment, ensure you have write permissions or specify a correct path for the output file.)\n"
   ]
  },
  {
   "cell_type": "markdown",
   "metadata": {},
   "source": [
    "The output CSV (flagged_data_output.csv) will contain all original columns plus additional columns indicating flags:\n",
    "\n",
    "    <Var>_range_flag: \"WARN\"/\"ERROR\" if out of physical range (or empty if OK).\n",
    "    <Var>_const_flag: \"CONST\" if part of a constant sequence.\n",
    "    MV_<Var1>_<Var2>: \"OUTLIER\" if the data point was flagged as an outlier in the multivariate comparison between Var1 and Var2.\n",
    "    USTAR_filter_flag: \"FILTERED\" for points identified as likely removed by u* filtering.\n",
    "\n",
    "You can open this CSV in any spreadsheet or viewer to filter and examine flagged points. Each flagged value should be investigated to determine if it indicates a true data issue requiring correction or exclusion, or if it's an acceptable extreme that should be retained.\n",
    "Conclusions\n",
    "\n",
    "We have performed a comprehensive QA/QC analysis on the AmeriFlux-like dataset:\n",
    "\n",
    "    Physical Range checks identified measurements falling outside plausible bounds and highlighted potential instrument issues like saturation or bad calibration.\n",
    "    Variability checks helped spot trends (gradual drifts), step changes (abrupt shifts), and unnatural constant sequences in the data.\n",
    "    Multivariate comparisons verified that related measurements are consistent with each other, flagging anomalies possibly due to sensor malfunction (e.g., a blocked radiation sensor) or data processing errors.\n",
    "    USTAR filtering check ensured that low-turbulence data have not been inappropriately censored in the CO₂ flux records.\n",
    "\n",
    "By adjusting thresholds and ranges, this notebook can be tailored to different sites and conditions. The resulting flagged dataset provides a clear indication of data quality issues, guiding further data cleaning or prompting a site to re-examine their measurements. Keeping these QA/QC steps in the workflow helps maintain the integrity of flux data analysis and ensures confidence in subsequent ecological and meteorological interpretations."
   ]
  }
 ],
 "metadata": {
  "kernelspec": {
   "display_name": "data",
   "language": "python",
   "name": "python3"
  },
  "language_info": {
   "codemirror_mode": {
    "name": "ipython",
    "version": 3
   },
   "file_extension": ".py",
   "mimetype": "text/x-python",
   "name": "python",
   "nbconvert_exporter": "python",
   "pygments_lexer": "ipython3",
   "version": "3.12.2"
  }
 },
 "nbformat": 4,
 "nbformat_minor": 2
}
