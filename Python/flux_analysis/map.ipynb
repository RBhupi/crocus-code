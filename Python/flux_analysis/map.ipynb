{
 "cells": [
  {
   "cell_type": "code",
   "execution_count": 18,
   "id": "248ec45c",
   "metadata": {},
   "outputs": [
    {
     "data": {
      "text/plain": [
       "'/Users/bhupendra/projects/crocus/output/plots/flux_plots/crocus_folium_labeled_map.html'"
      ]
     },
     "execution_count": 18,
     "metadata": {},
     "output_type": "execute_result"
    }
   ],
   "source": [
    "import folium\n",
    "import pandas as pd\n",
    "\n",
    "# Define all CROCUS sites\n",
    "nodes = pd.DataFrame({\n",
    "    'site': ['CSU', 'NEIU', 'UIC', 'ATMOS', 'CCICS', 'BIG', 'SHEDD', 'HUM', 'VLPK', 'DOWN', 'NU'],\n",
    "    'lat': [41.719897437, 41.98053299237866, 41.869405611, 41.701572036, 41.822974851,\n",
    "            41.777018638, 41.868105475, 41.905521008, 41.884884633495616, 41.795267873, 42.051416319],\n",
    "    'lon': [-87.612891487, -87.71662374616044, -87.645803523, -87.995269491, -87.609578947,\n",
    "            -87.609746777, -87.613378257, -87.703478437, -87.97871741056426, -88.006164637, -87.677648259],\n",
    "    'status': ['active', 'planned', 'active', 'active', 'planned',\n",
    "               'nonflux', 'nonflux', 'nonflux', 'nonflux', 'nonflux', 'nonflux']\n",
    "})\n",
    "\n",
    "# Center map\n",
    "map_center = [nodes['lat'].mean(), nodes['lon'].mean()]\n",
    "m = folium.Map(location=map_center, zoom_start=11, tiles='OpenStreetMap')\n",
    "\n",
    "# Icon styles\n",
    "icon_styles = {\n",
    "    'planned': {'icon': 'circle', 'color': 'blue'},\n",
    "    'active': {'icon': 'flag', 'color': 'green'},\n",
    "    'nonflux': {'icon': 'square', 'color': 'gray'}\n",
    "}\n",
    "\n",
    "# Add markers and labels\n",
    "for _, row in nodes.iterrows():\n",
    "    style = icon_styles[row['status']]\n",
    "    location = [row['lat'], row['lon']]\n",
    "    \n",
    "    # Marker\n",
    "    folium.Marker(\n",
    "        location=location,\n",
    "        popup=f\"{row['site']} ({row['status']})\",\n",
    "        icon=folium.Icon(color=style['color'], icon=style['icon'], prefix='fa')\n",
    "    ).add_to(m)\n",
    "    \n",
    "    # Label next to marker\n",
    "    folium.map.Marker(\n",
    "        location=[row['lat'] - 0.002, row['lon'] + 0.002],\n",
    "        icon=folium.DivIcon(html=f\"\"\"<div style=\"font-size: 20px; color: black;\">\n",
    "            <b>{row['site']}</b> ({row['status']})\n",
    "        </div>\"\"\")\n",
    "    ).add_to(m)\n",
    "\n",
    "# Legend HTML\n",
    "legend_html = '''\n",
    "<div style=\"\n",
    "     position: fixed;\n",
    "     bottom: 300px;\n",
    "     left: 300px;\n",
    "     width: 220px;\n",
    "     height: 150px;\n",
    "     background-color: white;\n",
    "     border:2px solid grey;\n",
    "     z-index:9999;\n",
    "     font-size:20px;\n",
    "     padding: 10px;\">\n",
    "     <b>Legend</b><br>\n",
    "     <i class=\"fa fa-flag\" style=\"color:green\"></i> Active Site<br>\n",
    "     <i class=\"fa fa-circle\" style=\"color:blue\"></i> Planned Site<br>\n",
    "     <i class=\"fa fa-square\" style=\"color:gray\"></i> Non-Flux Site\n",
    "</div>\n",
    "'''\n",
    "m.get_root().html.add_child(folium.Element(legend_html))\n",
    "\n",
    "# Save map\n",
    "map_path = \"/Users/bhupendra/projects/crocus/output/plots/flux_plots/crocus_folium_labeled_map.html\"\n",
    "m.save(map_path)\n",
    "map_path\n"
   ]
  }
 ],
 "metadata": {
  "kernelspec": {
   "display_name": "Python 3",
   "language": "python",
   "name": "python3"
  },
  "language_info": {
   "codemirror_mode": {
    "name": "ipython",
    "version": 3
   },
   "file_extension": ".py",
   "mimetype": "text/x-python",
   "name": "python",
   "nbconvert_exporter": "python",
   "pygments_lexer": "ipython3",
   "version": "3.13.5"
  }
 },
 "nbformat": 4,
 "nbformat_minor": 5
}
